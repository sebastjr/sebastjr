{
 "cells": [
  {
   "cell_type": "code",
   "execution_count": 1,
   "metadata": {},
   "outputs": [],
   "source": [
    "import numpy as np\n",
    "import os as os\n",
    "import matplotlib.pyplot as plt\n",
    "from natsort import natsorted"
   ]
  },
  {
   "cell_type": "code",
   "execution_count": 2,
   "metadata": {},
   "outputs": [
    {
     "ename": "FileNotFoundError",
     "evalue": "[WinError 3] The system cannot find the path specified: '/Users/sebastianredzic/Documents/Python V2024/maxwell'",
     "output_type": "error",
     "traceback": [
      "\u001b[1;31m---------------------------------------------------------------------------\u001b[0m",
      "\u001b[1;31mFileNotFoundError\u001b[0m                         Traceback (most recent call last)",
      "Cell \u001b[1;32mIn[2], line 1\u001b[0m\n\u001b[1;32m----> 1\u001b[0m \u001b[43mos\u001b[49m\u001b[38;5;241;43m.\u001b[39;49m\u001b[43mchdir\u001b[49m\u001b[43m(\u001b[49m\u001b[38;5;124;43mr\u001b[39;49m\u001b[38;5;124;43m'\u001b[39;49m\u001b[38;5;124;43m/Users/sebastianredzic/Documents/Python V2024/maxwell\u001b[39;49m\u001b[38;5;124;43m'\u001b[39;49m\u001b[43m \u001b[49m\u001b[43m)\u001b[49m\n\u001b[0;32m      3\u001b[0m path \u001b[38;5;241m=\u001b[39m os\u001b[38;5;241m.\u001b[39mgetcwd()\n\u001b[0;32m      5\u001b[0m \u001b[38;5;28;01mdef\u001b[39;00m \u001b[38;5;21mFileNames\u001b[39m(path):\n",
      "\u001b[1;31mFileNotFoundError\u001b[0m: [WinError 3] The system cannot find the path specified: '/Users/sebastianredzic/Documents/Python V2024/maxwell'"
     ]
    }
   ],
   "source": [
    "os.chdir(r'/Users/sebastianredzic/Documents/Python V2024/maxwell' )\n",
    "\n",
    "path = os.getcwd()\n",
    "\n",
    "def FileNames(path):\n",
    "    filelist = []\n",
    "\n",
    "    pathExists = os.path.exists(path)\n",
    "    isDir = os.path.isdir(path)\n",
    "\n",
    "    if pathExists and isDir:\n",
    "        for dirpaths, dirs, files in os.walk(path):\n",
    "            for file in files:\n",
    "                filelist.append(os.path.join(dirpaths, file))\n",
    "    \n",
    "    return natsorted(filelist)\n",
    "\n",
    "def g(vi, B):\n",
    "    return np.sqrt(B/np.pi) * np.exp(-B*vi**2)\n",
    "\n",
    "def j(vi, B):\n",
    "    return 2*B*vi*np.exp(-B*vi**2)\n",
    "\n",
    "def calc_B(vs):\n",
    "    return 1 / (np.sum(np.fromiter((vi**2 for vi in vs), dtype=float)) / len(v))\n"
   ]
  },
  {
   "cell_type": "code",
   "execution_count": 170,
   "metadata": {},
   "outputs": [],
   "source": [
    "t, x, y = [], [], []  # Use Python lists for appending in loops\n",
    "\n",
    "for file in FileNames(path):\n",
    "    with open(file, 'r') as f:\n",
    "        # Skip the first two lines\n",
    "        n = 0\n",
    "        for i in range(2):\n",
    "            next(f)\n",
    "\n",
    "        # Process the rest of the lines\n",
    "        for line in f:\n",
    "            n += 1\n",
    "            column = line.split('\\t')\n",
    "            t.append(float(column[0]))  # Append directly to lists\n",
    "            x.append(float(column[1]) * 0.0022)\n",
    "            y.append(float(column[2]) * 0.0022)\n",
    "\n",
    "        # After reading the entire file, append \"END\" markers\n",
    "        t.append(\"END\")\n",
    "        x.append(\"END\")\n",
    "        y.append(\"END\")\n",
    "\n",
    "# Calculate velocities if needed\n",
    "v_x, v_y, v = [], [], []\n",
    "\n",
    "for i in range(len(t) - 1):\n",
    "    if type(t[i]) == float and type(t[i+1]) == float:\n",
    "        delta_t = t[i+1] - t[i]\n",
    "        if delta_t != 0:  # Avoid division by zero\n",
    "            v_x.append((x[i+1] - x[i]) / delta_t)\n",
    "            v_y.append((y[i+1] - y[i]) / delta_t)\n",
    "            v.append(np.sqrt(v_x[-1]**2 + v_y[-1]**2))\n",
    "\n",
    "# Convert velocity lists to NumPy arrays\n",
    "v_x = np.array(v_x)\n",
    "v_y = np.array(v_y)\n",
    "v = np.array(v)\n",
    "\n",
    "t = np.array([val for val in t if type(val) == float])\n",
    "x = np.array([val for val in x if type(val) == float])\n",
    "y = np.array([val for val in y if type(val) == float])"
   ]
  },
  {
   "cell_type": "code",
   "execution_count": 172,
   "metadata": {},
   "outputs": [
    {
     "data": {
      "image/png": "[encoded data removed]",
      "text/plain": [
       "<Figure size 640x480 with 1 Axes>"
      ]
     },
     "metadata": {},
     "output_type": "display_data"
    }
   ],
   "source": [
    "plt.hist(g(v_x, calc_B(v_x)), bins=20, density=True, alpha=0.5, label='g(v_x)')\n",
    "plt.hist(g(v_y, calc_B(v_y)), bins=20, density=True, alpha=0.5, label='g(v_y)')\n",
    "plt.hist(j(v, calc_B(v)), bins=20, density=True, alpha=0.5, label='f(v)')\n",
    "\n",
    "plt.legend()\n",
    "plt.xlabel('Value')\n",
    "plt.ylabel('Density')\n",
    "plt.title('Histograms of g(v) and f(v)')\n",
    "plt.show()"
   ]
  },
  {
   "cell_type": "code",
   "execution_count": null,
   "metadata": {},
   "outputs": [],
   "source": []
  }
 ],
 "metadata": {
  "kernelspec": {
   "display_name": "Python 3",
   "language": "python",
   "name": "python3"
  },
  "language_info": {
   "codemirror_mode": {
    "name": "ipython",
    "version": 3
   },
   "file_extension": ".py",
   "mimetype": "text/x-python",
   "name": "python",
   "nbconvert_exporter": "python",
   "pygments_lexer": "ipython3",
   "version": "3.11.0"
  }
 },
 "nbformat": 4,
 "nbformat_minor": 2
}
