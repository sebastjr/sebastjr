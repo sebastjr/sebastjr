{
 "cells": [
  {
   "cell_type": "markdown",
   "metadata": {},
   "source": [
    "# Single slit diffraction"
   ]
  },
  {
   "cell_type": "code",
   "execution_count": 80,
   "metadata": {},
   "outputs": [],
   "source": [
    "import numpy as np\n",
    "import matplotlib.pyplot as plt\n",
    "import ipywidgets as widgets\n",
    "from IPython.display import display"
   ]
  },
  {
   "cell_type": "code",
   "execution_count": 81,
   "metadata": {},
   "outputs": [],
   "source": [
    "# Constants\n",
    "y = 1  # Distance to screen (m)\n",
    "\n",
    "# Intensity function\n",
    "def intensity(x, D, lamda):\n",
    "    beta = np.pi * D * x / (lamda * y)\n",
    "    return np.where(beta == 0, 1, (np.sin(beta) / beta) ** 2)"
   ]
  },
  {
   "cell_type": "code",
   "execution_count": 82,
   "metadata": {},
   "outputs": [
    {
     "data": {
      "application/vnd.jupyter.widget-view+json": {
       "model_id": "476593f52e8e45dd8a192186541d8c0d",
       "version_major": 2,
       "version_minor": 0
      },
      "text/plain": [
       "HBox(children=(FloatSlider(value=2.0, continuous_update=False, description='D (μm)', max=10.0, min=1.0), Float…"
      ]
     },
     "metadata": {},
     "output_type": "display_data"
    },
    {
     "data": {
      "application/vnd.jupyter.widget-view+json": {
       "model_id": "c9e8bcbabc0149d68d9c68be105a5d1b",
       "version_major": 2,
       "version_minor": 0
      },
      "text/plain": [
       "Output()"
      ]
     },
     "metadata": {},
     "output_type": "display_data"
    }
   ],
   "source": [
    "# Plotting function\n",
    "def plot_diffraction(D, lamda):\n",
    "    D *= 1e-6  # Convert from μm to m\n",
    "    lamda *= 1e-9  # Convert from nm to m\n",
    "\n",
    "    x = np.linspace(-0.5, 0.5, 2000)  # in meters\n",
    "    I = intensity(x, D, lamda)\n",
    "\n",
    "    plt.figure(figsize=(10, 5))\n",
    "    plt.plot(x * 1000, I, color='blue')\n",
    "    plt.title(f\"Single Slit Diffraction\\nD = {D*1e6:.1f} μm, λ = {lamda*1e9:.0f} nm\")\n",
    "    plt.xlabel('Position (mm)')\n",
    "    plt.ylabel('Normalized Intensity')\n",
    "    plt.grid(True)\n",
    "    plt.ylim(0, 1.1)\n",
    "    plt.show()\n",
    "\n",
    "# Sliders\n",
    "D_slider = widgets.FloatSlider(\n",
    "    value = 2, min = 1, max = 10, step = 0.1, description = 'D (μm)', continuous_update = False\n",
    ")\n",
    "lambda_slider = widgets.FloatSlider(\n",
    "    value = 532, min = 400, max = 700, step = 1, description = 'λ (nm)', continuous_update = False\n",
    ")\n",
    "\n",
    "# Interactive plot\n",
    "ui = widgets.HBox([D_slider, lambda_slider])\n",
    "out = widgets.interactive_output(plot_diffraction, {'D': D_slider, 'lamda': lambda_slider})\n",
    "\n",
    "display(ui, out)"
   ]
  },
  {
   "cell_type": "markdown",
   "metadata": {},
   "source": [
    "# Double Slit Experiment and Diffraction Grating"
   ]
  },
  {
   "cell_type": "code",
   "execution_count": 83,
   "metadata": {},
   "outputs": [],
   "source": [
    "# Constants\n",
    "y = 1  # Distance to screen (m)\n",
    "D = 2e-6 # Distance to slits (m)\n",
    "lamda = 532e-9 # Wavelength\n",
    "\n",
    "# Intensity function\n",
    "def intensity1(x, l, N):\n",
    "    beta = np.pi * D * x / (lamda * y)\n",
    "    alpha = np.pi * l * x/(lamda * y)\n",
    "    return np.where(beta == 0, 1, (np.sin(beta) / beta) ** 2 * (np.sin(N * alpha)/(N * np.sin(alpha))) ** 2)"
   ]
  },
  {
   "cell_type": "code",
   "execution_count": 84,
   "metadata": {},
   "outputs": [
    {
     "data": {
      "application/vnd.jupyter.widget-view+json": {
       "model_id": "abcd5181d08f414e826b0ef9132b4633",
       "version_major": 2,
       "version_minor": 0
      },
      "text/plain": [
       "HBox(children=(FloatSlider(value=4.0, continuous_update=False, description='l (μm)', max=12.0, min=1.0), IntSl…"
      ]
     },
     "metadata": {},
     "output_type": "display_data"
    },
    {
     "data": {
      "application/vnd.jupyter.widget-view+json": {
       "model_id": "95390b328c77427c8cf921f15a0ae815",
       "version_major": 2,
       "version_minor": 0
      },
      "text/plain": [
       "Output()"
      ]
     },
     "metadata": {},
     "output_type": "display_data"
    }
   ],
   "source": [
    "# Plotting function\n",
    "def plot_diffraction1(l, N):\n",
    "    l *= 1e-6 # Slit seperation, Convert from µm to m\n",
    "\n",
    "    x = np.linspace(-0.5, 0.5, 2000)  # in meters\n",
    "    I = intensity1(x, l, N)\n",
    "\n",
    "    plt.figure(figsize=(10, 5))\n",
    "    plt.plot(x * 1000, I, color='blue')\n",
    "    plt.title(f\"Multiple Slit Diffraction\\nD = {D*1e6:.1f} μm, λ = {lamda*1e9:.0f} nm, l = {l*1e6:.1f} μm, N = {N}\")\n",
    "    plt.xlabel('Position (mm)')\n",
    "    plt.ylabel('Normalized Intensity')\n",
    "    plt.grid(True)\n",
    "    plt.ylim(0, 1.1)\n",
    "    plt.show()\n",
    "\n",
    "# Sliders\n",
    "l_slider = widgets.FloatSlider(\n",
    "    value = 4, min = 1, max = 12, step = 0.1, description = 'l (μm)', continuous_update = False\n",
    ")\n",
    "\n",
    "N_slider = widgets.IntSlider(\n",
    "    value = 2, min = 2, max = 5, step = 1, description = 'Slits', continuous_update = False\n",
    ")\n",
    "\n",
    "# Interactive plot\n",
    "ui1 = widgets.HBox([l_slider, N_slider])\n",
    "out1 = widgets.interactive_output(plot_diffraction1, {'l': l_slider, 'N': N_slider})\n",
    "\n",
    "display(ui1, out1)"
   ]
  }
 ],
 "metadata": {
  "kernelspec": {
   "display_name": "Python 3",
   "language": "python",
   "name": "python3"
  },
  "language_info": {
   "codemirror_mode": {
    "name": "ipython",
    "version": 3
   },
   "file_extension": ".py",
   "mimetype": "text/x-python",
   "name": "python",
   "nbconvert_exporter": "python",
   "pygments_lexer": "ipython3",
   "version": "3.11.9"
  }
 },
 "nbformat": 4,
 "nbformat_minor": 2
}
