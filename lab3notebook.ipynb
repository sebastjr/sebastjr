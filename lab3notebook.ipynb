{
 "cells": [
  {
   "cell_type": "markdown",
   "metadata": {},
   "source": [
    "# Multiple slit diffraction"
   ]
  },
  {
   "cell_type": "code",
   "execution_count": 34,
   "metadata": {},
   "outputs": [],
   "source": [
    "import numpy as np\n",
    "import matplotlib.pyplot as plt\n",
    "import ipywidgets as widgets\n",
    "from IPython.display import display"
   ]
  },
  {
   "cell_type": "code",
   "execution_count": 35,
   "metadata": {},
   "outputs": [],
   "source": [
    "# Constants\n",
    "y = 1  # Distance to screen (m)\n",
    "\n",
    "# Intensity function\n",
    "def intensity(x, l, N, D, lamda):\n",
    "    beta = np.pi * D * x / (lamda * y)\n",
    "    alpha = np.pi * l * x/(lamda * y)\n",
    "    return np.where(beta == 0, 1, (np.sin(beta) / beta) ** 2 * (np.sin(N * alpha)/(N * np.sin(alpha))) ** 2)"
   ]
  },
  {
   "cell_type": "code",
   "execution_count": 36,
   "metadata": {},
   "outputs": [
    {
     "data": {
      "application/vnd.jupyter.widget-view+json": {
       "model_id": "a99fd21a66954255ab35f988eae77f48",
       "version_major": 2,
       "version_minor": 0
      },
      "text/plain": [
       "HBox(children=(FloatSlider(value=4.0, continuous_update=False, description='l (μm)', max=12.0, min=1.0), IntSl…"
      ]
     },
     "metadata": {},
     "output_type": "display_data"
    },
    {
     "data": {
      "application/vnd.jupyter.widget-view+json": {
       "model_id": "eca4934b307f40c2a481a64172c8271d",
       "version_major": 2,
       "version_minor": 0
      },
      "text/plain": [
       "Output()"
      ]
     },
     "metadata": {},
     "output_type": "display_data"
    }
   ],
   "source": [
    "# Plotting function\n",
    "def plot_diffraction(l, N, D, lamda):\n",
    "    l *= 1e-6 # Slit seperation, Convert from µm to m\n",
    "    D *= 1e-6  # Convert from μm to m\n",
    "    lamda *= 1e-9  # Convert from nm to m\n",
    "\n",
    "    x = np.linspace(-0.5, 0.5, 2000)  # in meters\n",
    "    I = intensity(x, l, N, D, lamda)\n",
    "\n",
    "    plt.figure(figsize=(10, 5))\n",
    "    plt.plot(x * 1000, I, color='blue')\n",
    "    plt.title(f\"Multiple Slit Diffraction\\nD = {D*1e6:.1f} μm, λ = {lamda*1e9:.0f} nm, l = {l*1e6:.1f} μm, N = {N}\")\n",
    "    plt.xlabel('Position (mm)')\n",
    "    plt.ylabel('Normalized Intensity')\n",
    "    plt.grid(True)\n",
    "    plt.ylim(0, 1.1)\n",
    "    plt.show()\n",
    "\n",
    "# Sliders\n",
    "l_slider = widgets.FloatSlider(\n",
    "    value = 4, min = 1, max = 12, step = 0.1, description = 'l (μm)', continuous_update = False\n",
    ")\n",
    "\n",
    "N_slider = widgets.IntSlider(\n",
    "    value = 1, min = 1, max = 10, step = 1, description = 'Slits', continuous_update = False\n",
    ")\n",
    "\n",
    "D_slider = widgets.FloatSlider(\n",
    "    value = 2, min = 1, max = 10, step = 0.1, description = 'D (μm)', continuous_update = False\n",
    ")\n",
    "lambda_slider = widgets.FloatSlider(\n",
    "    value = 532, min = 400, max = 700, step = 1, description = 'λ (nm)', continuous_update = False\n",
    ")\n",
    "\n",
    "# Interactive plot\n",
    "ui = widgets.HBox([l_slider, N_slider, D_slider, lambda_slider])\n",
    "out = widgets.interactive_output(plot_diffraction, {'l': l_slider, 'N': N_slider, 'D': D_slider, 'lamda': lambda_slider})\n",
    "\n",
    "display(ui, out)"
   ]
  }
 ],
 "metadata": {
  "kernelspec": {
   "display_name": "Python 3",
   "language": "python",
   "name": "python3"
  },
  "language_info": {
   "codemirror_mode": {
    "name": "ipython",
    "version": 3
   },
   "file_extension": ".py",
   "mimetype": "text/x-python",
   "name": "python",
   "nbconvert_exporter": "python",
   "pygments_lexer": "ipython3",
   "version": "3.11.4"
  }
 },
 "nbformat": 4,
 "nbformat_minor": 2
}
